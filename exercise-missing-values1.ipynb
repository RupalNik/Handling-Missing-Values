{
 "cells": [
  {
   "cell_type": "markdown",
   "id": "8a8ebb48",
   "metadata": {
    "papermill": {
     "duration": 0.008755,
     "end_time": "2023-05-05T07:29:16.046005",
     "exception": false,
     "start_time": "2023-05-05T07:29:16.037250",
     "status": "completed"
    },
    "tags": []
   },
   "source": [
    "**This notebook is an exercise in the [Intermediate Machine Learning](https://www.kaggle.com/learn/intermediate-machine-learning) course.  You can reference the tutorial at [this link](https://www.kaggle.com/alexisbcook/missing-values).**\n",
    "\n",
    "---\n"
   ]
  },
  {
   "cell_type": "markdown",
   "id": "f7c1c5c0",
   "metadata": {
    "papermill": {
     "duration": 0.008565,
     "end_time": "2023-05-05T07:29:16.063080",
     "exception": false,
     "start_time": "2023-05-05T07:29:16.054515",
     "status": "completed"
    },
    "tags": []
   },
   "source": [
    "Now it's your turn to test your new knowledge of **missing values** handling. You'll probably find it makes a big difference.\n",
    "\n",
    "# Setup\n",
    "The questions will give you feedback on your work. Run the following cell to set\n",
    " up the feedback system."
   ]
  },
  {
   "cell_type": "code",
   "execution_count": 1,
   "id": "d2d4f3be",
   "metadata": {
    "execution": {
     "iopub.execute_input": "2023-05-05T07:29:16.082728Z",
     "iopub.status.busy": "2023-05-05T07:29:16.082359Z",
     "iopub.status.idle": "2023-05-05T07:29:16.129025Z",
     "shell.execute_reply": "2023-05-05T07:29:16.128177Z"
    },
    "papermill": {
     "duration": 0.059226,
     "end_time": "2023-05-05T07:29:16.131707",
     "exception": false,
     "start_time": "2023-05-05T07:29:16.072481",
     "status": "completed"
    },
    "tags": []
   },
   "outputs": [
    {
     "name": "stdout",
     "output_type": "stream",
     "text": [
      "Setup Complete\n"
     ]
    }
   ],
   "source": [
    "# Set up code checking\n",
    "import os\n",
    "if not os.path.exists(\"../input/train.csv\"):\n",
    "    os.symlink(\"../input/home-data-for-ml-course/train.csv\", \"../input/train.csv\")  \n",
    "    os.symlink(\"../input/home-data-for-ml-course/test.csv\", \"../input/test.csv\") \n",
    "from learntools.core import binder\n",
    "binder.bind(globals())\n",
    "from learntools.ml_intermediate.ex2 import *\n",
    "print(\"Setup Complete\")"
   ]
  },
  {
   "cell_type": "markdown",
   "id": "c236c29e",
   "metadata": {
    "papermill": {
     "duration": 0.008118,
     "end_time": "2023-05-05T07:29:16.148440",
     "exception": false,
     "start_time": "2023-05-05T07:29:16.140322",
     "status": "completed"
    },
    "tags": []
   },
   "source": [
    "In this exercise, you will work with data from the [Housing Prices Competition for Kaggle Learn Users](https://www.kaggle.com/c/home-data-for-ml-course). \n",
    "\n",
    "![Ames Housing dataset image](https://storage.googleapis.com/kaggle-media/learn/images/lTJVG4e.png)\n",
    "\n",
    "Run the next code cell without changes to load the training and validation sets in `X_train`, `X_valid`, `y_train`, and `y_valid`.  The test set is loaded in `X_test`."
   ]
  },
  {
   "cell_type": "code",
   "execution_count": 2,
   "id": "0a8aaf0a",
   "metadata": {
    "execution": {
     "iopub.execute_input": "2023-05-05T07:29:16.167304Z",
     "iopub.status.busy": "2023-05-05T07:29:16.166580Z",
     "iopub.status.idle": "2023-05-05T07:29:17.432287Z",
     "shell.execute_reply": "2023-05-05T07:29:17.431149Z"
    },
    "papermill": {
     "duration": 1.277965,
     "end_time": "2023-05-05T07:29:17.434787",
     "exception": false,
     "start_time": "2023-05-05T07:29:16.156822",
     "status": "completed"
    },
    "tags": []
   },
   "outputs": [
    {
     "name": "stderr",
     "output_type": "stream",
     "text": [
      "/opt/conda/lib/python3.10/site-packages/scipy/__init__.py:146: UserWarning: A NumPy version >=1.16.5 and <1.23.0 is required for this version of SciPy (detected version 1.23.5\n",
      "  warnings.warn(f\"A NumPy version >={np_minversion} and <{np_maxversion}\"\n"
     ]
    }
   ],
   "source": [
    "import pandas as pd\n",
    "from sklearn.model_selection import train_test_split\n",
    "\n",
    "# Read the data\n",
    "X_full = pd.read_csv('../input/train.csv', index_col='Id')\n",
    "X_test_full = pd.read_csv('../input/test.csv', index_col='Id')\n",
    "\n",
    "# Remove rows with missing target, separate target from predictors\n",
    "X_full.dropna(axis=0, subset=['SalePrice'], inplace=True)\n",
    "y = X_full.SalePrice\n",
    "X_full.drop(['SalePrice'], axis=1, inplace=True)\n",
    "\n",
    "# To keep things simple, we'll use only numerical predictors\n",
    "X = X_full.select_dtypes(exclude=['object'])\n",
    "X_test = X_test_full.select_dtypes(exclude=['object'])\n",
    "\n",
    "# Break off validation set from training data\n",
    "X_train, X_valid, y_train, y_valid = train_test_split(X, y, train_size=0.8, test_size=0.2,\n",
    "                                                      random_state=0)"
   ]
  },
  {
   "cell_type": "markdown",
   "id": "cb95f58d",
   "metadata": {
    "papermill": {
     "duration": 0.008225,
     "end_time": "2023-05-05T07:29:17.451956",
     "exception": false,
     "start_time": "2023-05-05T07:29:17.443731",
     "status": "completed"
    },
    "tags": []
   },
   "source": [
    "Use the next code cell to print the first five rows of the data."
   ]
  },
  {
   "cell_type": "code",
   "execution_count": 3,
   "id": "43959ef0",
   "metadata": {
    "execution": {
     "iopub.execute_input": "2023-05-05T07:29:17.470154Z",
     "iopub.status.busy": "2023-05-05T07:29:17.469771Z",
     "iopub.status.idle": "2023-05-05T07:29:17.501149Z",
     "shell.execute_reply": "2023-05-05T07:29:17.500139Z"
    },
    "papermill": {
     "duration": 0.043146,
     "end_time": "2023-05-05T07:29:17.503382",
     "exception": false,
     "start_time": "2023-05-05T07:29:17.460236",
     "status": "completed"
    },
    "tags": []
   },
   "outputs": [
    {
     "data": {
      "text/html": [
       "<div>\n",
       "<style scoped>\n",
       "    .dataframe tbody tr th:only-of-type {\n",
       "        vertical-align: middle;\n",
       "    }\n",
       "\n",
       "    .dataframe tbody tr th {\n",
       "        vertical-align: top;\n",
       "    }\n",
       "\n",
       "    .dataframe thead th {\n",
       "        text-align: right;\n",
       "    }\n",
       "</style>\n",
       "<table border=\"1\" class=\"dataframe\">\n",
       "  <thead>\n",
       "    <tr style=\"text-align: right;\">\n",
       "      <th></th>\n",
       "      <th>MSSubClass</th>\n",
       "      <th>LotFrontage</th>\n",
       "      <th>LotArea</th>\n",
       "      <th>OverallQual</th>\n",
       "      <th>OverallCond</th>\n",
       "      <th>YearBuilt</th>\n",
       "      <th>YearRemodAdd</th>\n",
       "      <th>MasVnrArea</th>\n",
       "      <th>BsmtFinSF1</th>\n",
       "      <th>BsmtFinSF2</th>\n",
       "      <th>...</th>\n",
       "      <th>GarageArea</th>\n",
       "      <th>WoodDeckSF</th>\n",
       "      <th>OpenPorchSF</th>\n",
       "      <th>EnclosedPorch</th>\n",
       "      <th>3SsnPorch</th>\n",
       "      <th>ScreenPorch</th>\n",
       "      <th>PoolArea</th>\n",
       "      <th>MiscVal</th>\n",
       "      <th>MoSold</th>\n",
       "      <th>YrSold</th>\n",
       "    </tr>\n",
       "    <tr>\n",
       "      <th>Id</th>\n",
       "      <th></th>\n",
       "      <th></th>\n",
       "      <th></th>\n",
       "      <th></th>\n",
       "      <th></th>\n",
       "      <th></th>\n",
       "      <th></th>\n",
       "      <th></th>\n",
       "      <th></th>\n",
       "      <th></th>\n",
       "      <th></th>\n",
       "      <th></th>\n",
       "      <th></th>\n",
       "      <th></th>\n",
       "      <th></th>\n",
       "      <th></th>\n",
       "      <th></th>\n",
       "      <th></th>\n",
       "      <th></th>\n",
       "      <th></th>\n",
       "      <th></th>\n",
       "    </tr>\n",
       "  </thead>\n",
       "  <tbody>\n",
       "    <tr>\n",
       "      <th>619</th>\n",
       "      <td>20</td>\n",
       "      <td>90.0</td>\n",
       "      <td>11694</td>\n",
       "      <td>9</td>\n",
       "      <td>5</td>\n",
       "      <td>2007</td>\n",
       "      <td>2007</td>\n",
       "      <td>452.0</td>\n",
       "      <td>48</td>\n",
       "      <td>0</td>\n",
       "      <td>...</td>\n",
       "      <td>774</td>\n",
       "      <td>0</td>\n",
       "      <td>108</td>\n",
       "      <td>0</td>\n",
       "      <td>0</td>\n",
       "      <td>260</td>\n",
       "      <td>0</td>\n",
       "      <td>0</td>\n",
       "      <td>7</td>\n",
       "      <td>2007</td>\n",
       "    </tr>\n",
       "    <tr>\n",
       "      <th>871</th>\n",
       "      <td>20</td>\n",
       "      <td>60.0</td>\n",
       "      <td>6600</td>\n",
       "      <td>5</td>\n",
       "      <td>5</td>\n",
       "      <td>1962</td>\n",
       "      <td>1962</td>\n",
       "      <td>0.0</td>\n",
       "      <td>0</td>\n",
       "      <td>0</td>\n",
       "      <td>...</td>\n",
       "      <td>308</td>\n",
       "      <td>0</td>\n",
       "      <td>0</td>\n",
       "      <td>0</td>\n",
       "      <td>0</td>\n",
       "      <td>0</td>\n",
       "      <td>0</td>\n",
       "      <td>0</td>\n",
       "      <td>8</td>\n",
       "      <td>2009</td>\n",
       "    </tr>\n",
       "    <tr>\n",
       "      <th>93</th>\n",
       "      <td>30</td>\n",
       "      <td>80.0</td>\n",
       "      <td>13360</td>\n",
       "      <td>5</td>\n",
       "      <td>7</td>\n",
       "      <td>1921</td>\n",
       "      <td>2006</td>\n",
       "      <td>0.0</td>\n",
       "      <td>713</td>\n",
       "      <td>0</td>\n",
       "      <td>...</td>\n",
       "      <td>432</td>\n",
       "      <td>0</td>\n",
       "      <td>0</td>\n",
       "      <td>44</td>\n",
       "      <td>0</td>\n",
       "      <td>0</td>\n",
       "      <td>0</td>\n",
       "      <td>0</td>\n",
       "      <td>8</td>\n",
       "      <td>2009</td>\n",
       "    </tr>\n",
       "    <tr>\n",
       "      <th>818</th>\n",
       "      <td>20</td>\n",
       "      <td>NaN</td>\n",
       "      <td>13265</td>\n",
       "      <td>8</td>\n",
       "      <td>5</td>\n",
       "      <td>2002</td>\n",
       "      <td>2002</td>\n",
       "      <td>148.0</td>\n",
       "      <td>1218</td>\n",
       "      <td>0</td>\n",
       "      <td>...</td>\n",
       "      <td>857</td>\n",
       "      <td>150</td>\n",
       "      <td>59</td>\n",
       "      <td>0</td>\n",
       "      <td>0</td>\n",
       "      <td>0</td>\n",
       "      <td>0</td>\n",
       "      <td>0</td>\n",
       "      <td>7</td>\n",
       "      <td>2008</td>\n",
       "    </tr>\n",
       "    <tr>\n",
       "      <th>303</th>\n",
       "      <td>20</td>\n",
       "      <td>118.0</td>\n",
       "      <td>13704</td>\n",
       "      <td>7</td>\n",
       "      <td>5</td>\n",
       "      <td>2001</td>\n",
       "      <td>2002</td>\n",
       "      <td>150.0</td>\n",
       "      <td>0</td>\n",
       "      <td>0</td>\n",
       "      <td>...</td>\n",
       "      <td>843</td>\n",
       "      <td>468</td>\n",
       "      <td>81</td>\n",
       "      <td>0</td>\n",
       "      <td>0</td>\n",
       "      <td>0</td>\n",
       "      <td>0</td>\n",
       "      <td>0</td>\n",
       "      <td>1</td>\n",
       "      <td>2006</td>\n",
       "    </tr>\n",
       "  </tbody>\n",
       "</table>\n",
       "<p>5 rows × 36 columns</p>\n",
       "</div>"
      ],
      "text/plain": [
       "     MSSubClass  LotFrontage  LotArea  OverallQual  OverallCond  YearBuilt  \\\n",
       "Id                                                                           \n",
       "619          20         90.0    11694            9            5       2007   \n",
       "871          20         60.0     6600            5            5       1962   \n",
       "93           30         80.0    13360            5            7       1921   \n",
       "818          20          NaN    13265            8            5       2002   \n",
       "303          20        118.0    13704            7            5       2001   \n",
       "\n",
       "     YearRemodAdd  MasVnrArea  BsmtFinSF1  BsmtFinSF2  ...  GarageArea  \\\n",
       "Id                                                     ...               \n",
       "619          2007       452.0          48           0  ...         774   \n",
       "871          1962         0.0           0           0  ...         308   \n",
       "93           2006         0.0         713           0  ...         432   \n",
       "818          2002       148.0        1218           0  ...         857   \n",
       "303          2002       150.0           0           0  ...         843   \n",
       "\n",
       "     WoodDeckSF  OpenPorchSF  EnclosedPorch  3SsnPorch  ScreenPorch  PoolArea  \\\n",
       "Id                                                                              \n",
       "619           0          108              0          0          260         0   \n",
       "871           0            0              0          0            0         0   \n",
       "93            0            0             44          0            0         0   \n",
       "818         150           59              0          0            0         0   \n",
       "303         468           81              0          0            0         0   \n",
       "\n",
       "     MiscVal  MoSold  YrSold  \n",
       "Id                            \n",
       "619        0       7    2007  \n",
       "871        0       8    2009  \n",
       "93         0       8    2009  \n",
       "818        0       7    2008  \n",
       "303        0       1    2006  \n",
       "\n",
       "[5 rows x 36 columns]"
      ]
     },
     "execution_count": 3,
     "metadata": {},
     "output_type": "execute_result"
    }
   ],
   "source": [
    "X_train.head()"
   ]
  },
  {
   "cell_type": "markdown",
   "id": "381fdae3",
   "metadata": {
    "papermill": {
     "duration": 0.008431,
     "end_time": "2023-05-05T07:29:17.520888",
     "exception": false,
     "start_time": "2023-05-05T07:29:17.512457",
     "status": "completed"
    },
    "tags": []
   },
   "source": [
    "You can already see a few missing values in the first several rows.  In the next step, you'll obtain a more comprehensive understanding of the missing values in the dataset.\n",
    "\n",
    "# Step 1: Preliminary investigation\n",
    "\n",
    "Run the code cell below without changes."
   ]
  },
  {
   "cell_type": "code",
   "execution_count": 4,
   "id": "05a86529",
   "metadata": {
    "execution": {
     "iopub.execute_input": "2023-05-05T07:29:17.540167Z",
     "iopub.status.busy": "2023-05-05T07:29:17.539783Z",
     "iopub.status.idle": "2023-05-05T07:29:17.547922Z",
     "shell.execute_reply": "2023-05-05T07:29:17.546794Z"
    },
    "papermill": {
     "duration": 0.020248,
     "end_time": "2023-05-05T07:29:17.550162",
     "exception": false,
     "start_time": "2023-05-05T07:29:17.529914",
     "status": "completed"
    },
    "tags": []
   },
   "outputs": [
    {
     "name": "stdout",
     "output_type": "stream",
     "text": [
      "(1168, 36)\n",
      "LotFrontage    212\n",
      "MasVnrArea       6\n",
      "GarageYrBlt     58\n",
      "dtype: int64\n"
     ]
    }
   ],
   "source": [
    "# Shape of training data (num_rows, num_columns)\n",
    "print(X_train.shape)\n",
    "\n",
    "# Number of missing values in each column of training data\n",
    "missing_val_count_by_column = (X_train.isnull().sum())\n",
    "print(missing_val_count_by_column[missing_val_count_by_column > 0])"
   ]
  },
  {
   "cell_type": "markdown",
   "id": "929652ae",
   "metadata": {
    "papermill": {
     "duration": 0.008807,
     "end_time": "2023-05-05T07:29:17.567901",
     "exception": false,
     "start_time": "2023-05-05T07:29:17.559094",
     "status": "completed"
    },
    "tags": []
   },
   "source": [
    "### Part A\n",
    "\n",
    "Use the above output to answer the questions below."
   ]
  },
  {
   "cell_type": "code",
   "execution_count": 5,
   "id": "30c4b352",
   "metadata": {
    "execution": {
     "iopub.execute_input": "2023-05-05T07:29:17.588243Z",
     "iopub.status.busy": "2023-05-05T07:29:17.587568Z",
     "iopub.status.idle": "2023-05-05T07:29:17.601054Z",
     "shell.execute_reply": "2023-05-05T07:29:17.599892Z"
    },
    "papermill": {
     "duration": 0.025399,
     "end_time": "2023-05-05T07:29:17.602961",
     "exception": false,
     "start_time": "2023-05-05T07:29:17.577562",
     "status": "completed"
    },
    "tags": []
   },
   "outputs": [
    {
     "name": "stdout",
     "output_type": "stream",
     "text": [
      "Total number of Rows in training data are: 1168\n",
      "Total number of Columns with missing values : 3\n",
      "Total missing values in training data : 276\n"
     ]
    },
    {
     "data": {
      "application/javascript": [
       "parent.postMessage({\"jupyterEvent\": \"custom.exercise_interaction\", \"data\": {\"outcomeType\": 1, \"valueTowardsCompletion\": 1.0, \"interactionType\": 1, \"questionType\": 1, \"questionId\": \"1.1_InvestigateEquality\", \"learnToolsVersion\": \"0.3.4\", \"failureMessage\": \"\", \"exceptionClass\": \"\", \"trace\": \"\"}}, \"*\")"
      ],
      "text/plain": [
       "<IPython.core.display.Javascript object>"
      ]
     },
     "metadata": {},
     "output_type": "display_data"
    },
    {
     "data": {
      "text/markdown": [
       "<span style=\"color:#33cc33\">Correct</span>"
      ],
      "text/plain": [
       "Correct"
      ]
     },
     "metadata": {},
     "output_type": "display_data"
    }
   ],
   "source": [
    "# Fill in the line below: How many rows are in the training data?\n",
    "num_rows = X_train.shape[0]\n",
    "print('Total number of Rows in training data are:',num_rows)\n",
    "\n",
    "# Fill in the line below: How many columns in the training data\n",
    "# have missing values?\n",
    "num_cols_with_missing = (X_train.isna().sum(axis=0)>0).sum()\n",
    "print('Total number of Columns with missing values :',num_cols_with_missing)\n",
    "\n",
    "# Fill in the line below: How many missing entries are contained in \n",
    "# all of the training data?\n",
    "tot_missing = X_train.isnull().sum().sum()\n",
    "print('Total missing values in training data :',tot_missing)\n",
    "\n",
    "# Check your answers\n",
    "step_1.a.check()"
   ]
  },
  {
   "cell_type": "code",
   "execution_count": 6,
   "id": "5e9bb6f1",
   "metadata": {
    "execution": {
     "iopub.execute_input": "2023-05-05T07:29:17.622730Z",
     "iopub.status.busy": "2023-05-05T07:29:17.622296Z",
     "iopub.status.idle": "2023-05-05T07:29:17.633893Z",
     "shell.execute_reply": "2023-05-05T07:29:17.632920Z"
    },
    "papermill": {
     "duration": 0.023992,
     "end_time": "2023-05-05T07:29:17.635958",
     "exception": false,
     "start_time": "2023-05-05T07:29:17.611966",
     "status": "completed"
    },
    "tags": []
   },
   "outputs": [
    {
     "data": {
      "application/javascript": [
       "parent.postMessage({\"jupyterEvent\": \"custom.exercise_interaction\", \"data\": {\"interactionType\": 2, \"questionType\": 1, \"questionId\": \"1.1_InvestigateEquality\", \"learnToolsVersion\": \"0.3.4\", \"valueTowardsCompletion\": 0.0, \"failureMessage\": \"\", \"exceptionClass\": \"\", \"trace\": \"\", \"outcomeType\": 4}}, \"*\")"
      ],
      "text/plain": [
       "<IPython.core.display.Javascript object>"
      ]
     },
     "metadata": {},
     "output_type": "display_data"
    },
    {
     "data": {
      "text/markdown": [
       "<span style=\"color:#3366cc\">Hint:</span> Use the output of `X_train.shape` to get the number of rows and columns in the training data.  The `missing_val_count_by_column` Series has an entry for each column in the data, and the output above prints the number of missing entries for each column with at least one missing entry."
      ],
      "text/plain": [
       "Hint: Use the output of `X_train.shape` to get the number of rows and columns in the training data.  The `missing_val_count_by_column` Series has an entry for each column in the data, and the output above prints the number of missing entries for each column with at least one missing entry."
      ]
     },
     "metadata": {},
     "output_type": "display_data"
    },
    {
     "data": {
      "application/javascript": [
       "parent.postMessage({\"jupyterEvent\": \"custom.exercise_interaction\", \"data\": {\"interactionType\": 3, \"questionType\": 1, \"questionId\": \"1.1_InvestigateEquality\", \"learnToolsVersion\": \"0.3.4\", \"valueTowardsCompletion\": 0.0, \"failureMessage\": \"\", \"exceptionClass\": \"\", \"trace\": \"\", \"outcomeType\": 4}}, \"*\")"
      ],
      "text/plain": [
       "<IPython.core.display.Javascript object>"
      ]
     },
     "metadata": {},
     "output_type": "display_data"
    },
    {
     "data": {
      "text/markdown": [
       "<span style=\"color:#33cc99\">Solution:</span> \n",
       "```python\n",
       "# How many rows are in the training data?\n",
       "num_rows = 1168\n",
       "\n",
       "# How many columns in the training data have missing values?\n",
       "num_cols_with_missing = 3\n",
       "\n",
       "# How many missing entries are contained in all of the training data?\n",
       "tot_missing = 212 + 6 + 58\n",
       "\n",
       "```"
      ],
      "text/plain": [
       "Solution: \n",
       "```python\n",
       "# How many rows are in the training data?\n",
       "num_rows = 1168\n",
       "\n",
       "# How many columns in the training data have missing values?\n",
       "num_cols_with_missing = 3\n",
       "\n",
       "# How many missing entries are contained in all of the training data?\n",
       "tot_missing = 212 + 6 + 58\n",
       "\n",
       "```"
      ]
     },
     "metadata": {},
     "output_type": "display_data"
    }
   ],
   "source": [
    "# Lines below will give you a hint or solution code\n",
    "step_1.a.hint()\n",
    "step_1.a.solution()"
   ]
  },
  {
   "cell_type": "markdown",
   "id": "07616277",
   "metadata": {
    "papermill": {
     "duration": 0.009153,
     "end_time": "2023-05-05T07:29:17.654583",
     "exception": false,
     "start_time": "2023-05-05T07:29:17.645430",
     "status": "completed"
    },
    "tags": []
   },
   "source": [
    "### Part B\n",
    "Considering your answers above, what do you think is likely the best approach to dealing with the missing values?"
   ]
  },
  {
   "cell_type": "code",
   "execution_count": 7,
   "id": "5a7ff668",
   "metadata": {
    "execution": {
     "iopub.execute_input": "2023-05-05T07:29:17.675377Z",
     "iopub.status.busy": "2023-05-05T07:29:17.675014Z",
     "iopub.status.idle": "2023-05-05T07:29:17.682937Z",
     "shell.execute_reply": "2023-05-05T07:29:17.681912Z"
    },
    "papermill": {
     "duration": 0.020846,
     "end_time": "2023-05-05T07:29:17.685008",
     "exception": false,
     "start_time": "2023-05-05T07:29:17.664162",
     "status": "completed"
    },
    "tags": []
   },
   "outputs": [
    {
     "data": {
      "application/javascript": [
       "parent.postMessage({\"jupyterEvent\": \"custom.exercise_interaction\", \"data\": {\"outcomeType\": 1, \"valueTowardsCompletion\": 1.0, \"interactionType\": 1, \"questionType\": 4, \"questionId\": \"1.2_InvestigateThought\", \"learnToolsVersion\": \"0.3.4\", \"failureMessage\": \"\", \"exceptionClass\": \"\", \"trace\": \"\"}}, \"*\")"
      ],
      "text/plain": [
       "<IPython.core.display.Javascript object>"
      ]
     },
     "metadata": {},
     "output_type": "display_data"
    },
    {
     "data": {
      "text/markdown": [
       "<span style=\"color:#33cc33\">Correct:</span> \n",
       "\n",
       "Since there are relatively few missing entries in the data (the column with the greatest percentage of missing values is missing less than 20% of its entries), we can expect that dropping columns is unlikely to yield good results.  This is because we'd be throwing away a lot of valuable data, and so imputation will likely perform better."
      ],
      "text/plain": [
       "Correct: \n",
       "\n",
       "Since there are relatively few missing entries in the data (the column with the greatest percentage of missing values is missing less than 20% of its entries), we can expect that dropping columns is unlikely to yield good results.  This is because we'd be throwing away a lot of valuable data, and so imputation will likely perform better."
      ]
     },
     "metadata": {},
     "output_type": "display_data"
    }
   ],
   "source": [
    "# Check your answer (Run this code cell to receive credit!)\n",
    "step_1.b.check()"
   ]
  },
  {
   "cell_type": "code",
   "execution_count": 8,
   "id": "c1739c69",
   "metadata": {
    "execution": {
     "iopub.execute_input": "2023-05-05T07:29:17.706582Z",
     "iopub.status.busy": "2023-05-05T07:29:17.706204Z",
     "iopub.status.idle": "2023-05-05T07:29:17.710336Z",
     "shell.execute_reply": "2023-05-05T07:29:17.709370Z"
    },
    "papermill": {
     "duration": 0.017261,
     "end_time": "2023-05-05T07:29:17.712364",
     "exception": false,
     "start_time": "2023-05-05T07:29:17.695103",
     "status": "completed"
    },
    "tags": []
   },
   "outputs": [],
   "source": [
    "#step_1.b.hint()"
   ]
  },
  {
   "cell_type": "markdown",
   "id": "cfdeaa08",
   "metadata": {
    "papermill": {
     "duration": 0.009593,
     "end_time": "2023-05-05T07:29:17.731841",
     "exception": false,
     "start_time": "2023-05-05T07:29:17.722248",
     "status": "completed"
    },
    "tags": []
   },
   "source": [
    "To compare different approaches to dealing with missing values, you'll use the same `score_dataset()` function from the tutorial.  This function reports the [mean absolute error](https://en.wikipedia.org/wiki/Mean_absolute_error) (MAE) from a random forest model."
   ]
  },
  {
   "cell_type": "code",
   "execution_count": 9,
   "id": "765c7970",
   "metadata": {
    "execution": {
     "iopub.execute_input": "2023-05-05T07:29:17.753321Z",
     "iopub.status.busy": "2023-05-05T07:29:17.752909Z",
     "iopub.status.idle": "2023-05-05T07:29:18.125059Z",
     "shell.execute_reply": "2023-05-05T07:29:18.123925Z"
    },
    "papermill": {
     "duration": 0.385986,
     "end_time": "2023-05-05T07:29:18.127684",
     "exception": false,
     "start_time": "2023-05-05T07:29:17.741698",
     "status": "completed"
    },
    "tags": []
   },
   "outputs": [],
   "source": [
    "from sklearn.ensemble import RandomForestRegressor\n",
    "from sklearn.metrics import mean_absolute_error\n",
    "\n",
    "# Function for comparing different approaches\n",
    "def score_dataset(X_train, X_valid, y_train, y_valid):\n",
    "    model = RandomForestRegressor(n_estimators=100, random_state=0)\n",
    "    model.fit(X_train, y_train)\n",
    "    preds = model.predict(X_valid)\n",
    "    return mean_absolute_error(y_valid, preds)"
   ]
  },
  {
   "cell_type": "markdown",
   "id": "ab131534",
   "metadata": {
    "papermill": {
     "duration": 0.009825,
     "end_time": "2023-05-05T07:29:18.147940",
     "exception": false,
     "start_time": "2023-05-05T07:29:18.138115",
     "status": "completed"
    },
    "tags": []
   },
   "source": [
    "# Step 2: Drop columns with missing values\n",
    "\n",
    "In this step, you'll preprocess the data in `X_train` and `X_valid` to remove columns with missing values.  Set the preprocessed DataFrames to `reduced_X_train` and `reduced_X_valid`, respectively.  "
   ]
  },
  {
   "cell_type": "code",
   "execution_count": 10,
   "id": "b0bf9067",
   "metadata": {
    "execution": {
     "iopub.execute_input": "2023-05-05T07:29:18.170482Z",
     "iopub.status.busy": "2023-05-05T07:29:18.170059Z",
     "iopub.status.idle": "2023-05-05T07:29:18.205124Z",
     "shell.execute_reply": "2023-05-05T07:29:18.204097Z"
    },
    "papermill": {
     "duration": 0.049318,
     "end_time": "2023-05-05T07:29:18.207328",
     "exception": false,
     "start_time": "2023-05-05T07:29:18.158010",
     "status": "completed"
    },
    "tags": []
   },
   "outputs": [
    {
     "name": "stdout",
     "output_type": "stream",
     "text": [
      "The following columns have missing values: 3\n"
     ]
    },
    {
     "data": {
      "application/javascript": [
       "parent.postMessage({\"jupyterEvent\": \"custom.exercise_interaction\", \"data\": {\"outcomeType\": 1, \"valueTowardsCompletion\": 1.0, \"interactionType\": 1, \"questionType\": 2, \"questionId\": \"2_DropMissing\", \"learnToolsVersion\": \"0.3.4\", \"failureMessage\": \"\", \"exceptionClass\": \"\", \"trace\": \"\"}}, \"*\")"
      ],
      "text/plain": [
       "<IPython.core.display.Javascript object>"
      ]
     },
     "metadata": {},
     "output_type": "display_data"
    },
    {
     "data": {
      "text/markdown": [
       "<span style=\"color:#33cc33\">Correct</span>"
      ],
      "text/plain": [
       "Correct"
      ]
     },
     "metadata": {},
     "output_type": "display_data"
    }
   ],
   "source": [
    "# Fill in the line below: get names of columns with missing values\n",
    "\n",
    "missing_cols = num_cols_with_missing.tolist()\n",
    "print(f\"The following columns have missing values: {missing_cols}\")\n",
    "# Fill in the lines below: drop columns in training and validation data\n",
    "\n",
    "cols_with_missing = [col for col in X_train.columns if X_train[col].isnull().any()]\n",
    "\n",
    "# Drop columns in training and validation data\n",
    "reduced_X_train = X_train.drop(cols_with_missing, axis=1)\n",
    "reduced_X_valid = X_valid.drop(cols_with_missing, axis=1)\n",
    "\n",
    "# Check your answers\n",
    "step_2.check()"
   ]
  },
  {
   "cell_type": "code",
   "execution_count": 11,
   "id": "15c69071",
   "metadata": {
    "execution": {
     "iopub.execute_input": "2023-05-05T07:29:18.229381Z",
     "iopub.status.busy": "2023-05-05T07:29:18.229011Z",
     "iopub.status.idle": "2023-05-05T07:29:18.233225Z",
     "shell.execute_reply": "2023-05-05T07:29:18.232185Z"
    },
    "papermill": {
     "duration": 0.017573,
     "end_time": "2023-05-05T07:29:18.235043",
     "exception": false,
     "start_time": "2023-05-05T07:29:18.217470",
     "status": "completed"
    },
    "tags": []
   },
   "outputs": [],
   "source": [
    "# Lines below will give you a hint or solution code\n",
    "#step_2.hint()\n",
    "#step_2.solution()"
   ]
  },
  {
   "cell_type": "markdown",
   "id": "622e22f6",
   "metadata": {
    "papermill": {
     "duration": 0.009804,
     "end_time": "2023-05-05T07:29:18.255146",
     "exception": false,
     "start_time": "2023-05-05T07:29:18.245342",
     "status": "completed"
    },
    "tags": []
   },
   "source": [
    "Run the next code cell without changes to obtain the MAE for this approach."
   ]
  },
  {
   "cell_type": "code",
   "execution_count": 12,
   "id": "565c9824",
   "metadata": {
    "execution": {
     "iopub.execute_input": "2023-05-05T07:29:18.277144Z",
     "iopub.status.busy": "2023-05-05T07:29:18.276759Z",
     "iopub.status.idle": "2023-05-05T07:29:19.555543Z",
     "shell.execute_reply": "2023-05-05T07:29:19.554369Z"
    },
    "papermill": {
     "duration": 1.292476,
     "end_time": "2023-05-05T07:29:19.557887",
     "exception": false,
     "start_time": "2023-05-05T07:29:18.265411",
     "status": "completed"
    },
    "tags": []
   },
   "outputs": [
    {
     "name": "stdout",
     "output_type": "stream",
     "text": [
      "MAE (Drop columns with missing values):\n",
      "17837.82570776256\n"
     ]
    }
   ],
   "source": [
    "print(\"MAE (Drop columns with missing values):\")\n",
    "print(score_dataset(reduced_X_train, reduced_X_valid, y_train, y_valid))"
   ]
  },
  {
   "cell_type": "markdown",
   "id": "91cc08d9",
   "metadata": {
    "papermill": {
     "duration": 0.010187,
     "end_time": "2023-05-05T07:29:19.578627",
     "exception": false,
     "start_time": "2023-05-05T07:29:19.568440",
     "status": "completed"
    },
    "tags": []
   },
   "source": [
    "# Step 3: Imputation\n",
    "\n",
    "### Part A\n",
    "\n",
    "Use the next code cell to impute missing values with the mean value along each column.  Set the preprocessed DataFrames to `imputed_X_train` and `imputed_X_valid`.  Make sure that the column names match those in `X_train` and `X_valid`."
   ]
  },
  {
   "cell_type": "code",
   "execution_count": 13,
   "id": "551ec001",
   "metadata": {
    "execution": {
     "iopub.execute_input": "2023-05-05T07:29:19.601043Z",
     "iopub.status.busy": "2023-05-05T07:29:19.600668Z",
     "iopub.status.idle": "2023-05-05T07:29:19.639392Z",
     "shell.execute_reply": "2023-05-05T07:29:19.638283Z"
    },
    "papermill": {
     "duration": 0.052564,
     "end_time": "2023-05-05T07:29:19.641582",
     "exception": false,
     "start_time": "2023-05-05T07:29:19.589018",
     "status": "completed"
    },
    "tags": []
   },
   "outputs": [
    {
     "data": {
      "application/javascript": [
       "parent.postMessage({\"jupyterEvent\": \"custom.exercise_interaction\", \"data\": {\"outcomeType\": 1, \"valueTowardsCompletion\": 1.0, \"interactionType\": 1, \"questionType\": 2, \"questionId\": \"3.1_ImputeCode\", \"learnToolsVersion\": \"0.3.4\", \"failureMessage\": \"\", \"exceptionClass\": \"\", \"trace\": \"\"}}, \"*\")"
      ],
      "text/plain": [
       "<IPython.core.display.Javascript object>"
      ]
     },
     "metadata": {},
     "output_type": "display_data"
    },
    {
     "data": {
      "text/markdown": [
       "<span style=\"color:#33cc33\">Correct</span>"
      ],
      "text/plain": [
       "Correct"
      ]
     },
     "metadata": {},
     "output_type": "display_data"
    }
   ],
   "source": [
    "from sklearn.impute import SimpleImputer\n",
    "\n",
    "# Fill in the lines below: imputation\n",
    "myimputer=SimpleImputer()\n",
    "\n",
    "imputed_X_train = pd.DataFrame(myimputer.fit_transform(X_train))\n",
    "imputed_X_valid = pd.DataFrame(myimputer.transform(X_valid))\n",
    "\n",
    "# Fill in the lines below: imputation removed column names; put them back\n",
    "imputed_X_train.columns = X_train.columns\n",
    "imputed_X_valid.columns = X_valid.columns\n",
    "\n",
    "# Check your answers\n",
    "step_3.a.check()"
   ]
  },
  {
   "cell_type": "code",
   "execution_count": 14,
   "id": "7112db15",
   "metadata": {
    "execution": {
     "iopub.execute_input": "2023-05-05T07:29:19.664199Z",
     "iopub.status.busy": "2023-05-05T07:29:19.663851Z",
     "iopub.status.idle": "2023-05-05T07:29:19.668241Z",
     "shell.execute_reply": "2023-05-05T07:29:19.667157Z"
    },
    "papermill": {
     "duration": 0.018345,
     "end_time": "2023-05-05T07:29:19.670447",
     "exception": false,
     "start_time": "2023-05-05T07:29:19.652102",
     "status": "completed"
    },
    "tags": []
   },
   "outputs": [],
   "source": [
    "# Lines below will give you a hint or solution code\n",
    "#step_3.a.hint()\n",
    "#step_3.a.solution()"
   ]
  },
  {
   "cell_type": "markdown",
   "id": "88eb8126",
   "metadata": {
    "papermill": {
     "duration": 0.010554,
     "end_time": "2023-05-05T07:29:19.691612",
     "exception": false,
     "start_time": "2023-05-05T07:29:19.681058",
     "status": "completed"
    },
    "tags": []
   },
   "source": [
    "Run the next code cell without changes to obtain the MAE for this approach."
   ]
  },
  {
   "cell_type": "code",
   "execution_count": 15,
   "id": "f40e52a7",
   "metadata": {
    "execution": {
     "iopub.execute_input": "2023-05-05T07:29:19.714458Z",
     "iopub.status.busy": "2023-05-05T07:29:19.714112Z",
     "iopub.status.idle": "2023-05-05T07:29:21.105844Z",
     "shell.execute_reply": "2023-05-05T07:29:21.104386Z"
    },
    "papermill": {
     "duration": 1.405807,
     "end_time": "2023-05-05T07:29:21.108045",
     "exception": false,
     "start_time": "2023-05-05T07:29:19.702238",
     "status": "completed"
    },
    "tags": []
   },
   "outputs": [
    {
     "name": "stdout",
     "output_type": "stream",
     "text": [
      "MAE (Imputation):\n",
      "18062.894611872147\n"
     ]
    }
   ],
   "source": [
    "print(\"MAE (Imputation):\")\n",
    "print(score_dataset(imputed_X_train, imputed_X_valid, y_train, y_valid))"
   ]
  },
  {
   "cell_type": "markdown",
   "id": "e4dfcfd1",
   "metadata": {
    "papermill": {
     "duration": 0.011803,
     "end_time": "2023-05-05T07:29:21.130859",
     "exception": false,
     "start_time": "2023-05-05T07:29:21.119056",
     "status": "completed"
    },
    "tags": []
   },
   "source": [
    "### Part B\n",
    "\n",
    "Compare the MAE from each approach.  Does anything surprise you about the results?  Why do you think one approach performed better than the other?"
   ]
  },
  {
   "cell_type": "code",
   "execution_count": 16,
   "id": "69659f22",
   "metadata": {
    "execution": {
     "iopub.execute_input": "2023-05-05T07:29:21.154074Z",
     "iopub.status.busy": "2023-05-05T07:29:21.153671Z",
     "iopub.status.idle": "2023-05-05T07:29:21.160735Z",
     "shell.execute_reply": "2023-05-05T07:29:21.159344Z"
    },
    "papermill": {
     "duration": 0.020619,
     "end_time": "2023-05-05T07:29:21.162157",
     "exception": true,
     "start_time": "2023-05-05T07:29:21.141538",
     "status": "failed"
    },
    "tags": []
   },
   "outputs": [
    {
     "ename": "SyntaxError",
     "evalue": "unterminated string literal (detected at line 2) (75297436.py, line 2)",
     "output_type": "error",
     "traceback": [
      "\u001b[0;36m  Cell \u001b[0;32mIn[16], line 2\u001b[0;36m\u001b[0m\n\u001b[0;31m    as the it does not exist and it will be usless to fill the data that doesn't exsist\u001b[0m\n\u001b[0m                                                                              ^\u001b[0m\n\u001b[0;31mSyntaxError\u001b[0m\u001b[0;31m:\u001b[0m unterminated string literal (detected at line 2)\n"
     ]
    }
   ],
   "source": [
    "Approach 1 gives less mean absolute error compare to aproach 2 The reason can be as column like lotfrontage and Garageyrblt may have null value\n",
    "as the it does not exist and it will be usless to fill the data that doesn't exsist"
   ]
  },
  {
   "cell_type": "markdown",
   "id": "9c7e743f",
   "metadata": {
    "papermill": {
     "duration": null,
     "end_time": null,
     "exception": null,
     "start_time": null,
     "status": "pending"
    },
    "tags": []
   },
   "source": []
  },
  {
   "cell_type": "code",
   "execution_count": null,
   "id": "25196771",
   "metadata": {
    "execution": {
     "iopub.execute_input": "2023-05-05T07:00:02.407408Z",
     "iopub.status.busy": "2023-05-05T07:00:02.407002Z",
     "iopub.status.idle": "2023-05-05T07:00:02.416491Z",
     "shell.execute_reply": "2023-05-05T07:00:02.415224Z",
     "shell.execute_reply.started": "2023-05-05T07:00:02.407376Z"
    },
    "papermill": {
     "duration": null,
     "end_time": null,
     "exception": null,
     "start_time": null,
     "status": "pending"
    },
    "tags": []
   },
   "outputs": [],
   "source": [
    "# Check your answer (Run this code cell to receive credit!)\n",
    "step_3.b.check()"
   ]
  },
  {
   "cell_type": "code",
   "execution_count": null,
   "id": "572933df",
   "metadata": {
    "papermill": {
     "duration": null,
     "end_time": null,
     "exception": null,
     "start_time": null,
     "status": "pending"
    },
    "tags": []
   },
   "outputs": [],
   "source": [
    "#step_3.b.hint()"
   ]
  },
  {
   "cell_type": "markdown",
   "id": "51d3f6ba",
   "metadata": {
    "papermill": {
     "duration": null,
     "end_time": null,
     "exception": null,
     "start_time": null,
     "status": "pending"
    },
    "tags": []
   },
   "source": [
    "# Step 4: Generate test predictions\n",
    "\n",
    "In this final step, you'll use any approach of your choosing to deal with missing values.  Once you've preprocessed the training and validation features, you'll train and evaluate a random forest model.  Then, you'll preprocess the test data before generating predictions that can be submitted to the competition!\n",
    "\n",
    "### Part A\n",
    "\n",
    "Use the next code cell to preprocess the training and validation data.  Set the preprocessed DataFrames to `final_X_train` and `final_X_valid`.  **You can use any approach of your choosing here!**  in order for this step to be marked as correct, you need only ensure:\n",
    "- the preprocessed DataFrames have the same number of columns,\n",
    "- the preprocessed DataFrames have no missing values, \n",
    "- `final_X_train` and `y_train` have the same number of rows, and\n",
    "- `final_X_valid` and `y_valid` have the same number of rows."
   ]
  },
  {
   "cell_type": "code",
   "execution_count": null,
   "id": "ee28277a",
   "metadata": {
    "execution": {
     "iopub.execute_input": "2023-05-05T07:05:15.356925Z",
     "iopub.status.busy": "2023-05-05T07:05:15.356553Z",
     "iopub.status.idle": "2023-05-05T07:05:15.387106Z",
     "shell.execute_reply": "2023-05-05T07:05:15.385982Z",
     "shell.execute_reply.started": "2023-05-05T07:05:15.356896Z"
    },
    "papermill": {
     "duration": null,
     "end_time": null,
     "exception": null,
     "start_time": null,
     "status": "pending"
    },
    "tags": []
   },
   "outputs": [],
   "source": [
    "# Preprocessed training and validation features\n",
    "final_imputer=SimpleImputer(strategy='mean')\n",
    "final_X_train = pd.DataFrame(final_imputer.fit_transform(X_train))\n",
    "final_X_valid = pd.DataFrame(final_imputer.transform(X_valid))\n",
    "final_X_train.columns=X_train.columns\n",
    "final_X_valid.columns=X_valid.columns\n",
    "\n",
    "# Check your answers\n",
    "step_4.a.check()"
   ]
  },
  {
   "cell_type": "code",
   "execution_count": null,
   "id": "c36582e3",
   "metadata": {
    "execution": {
     "iopub.execute_input": "2023-05-05T07:01:10.808516Z",
     "iopub.status.busy": "2023-05-05T07:01:10.808128Z",
     "iopub.status.idle": "2023-05-05T07:01:10.821998Z",
     "shell.execute_reply": "2023-05-05T07:01:10.821034Z",
     "shell.execute_reply.started": "2023-05-05T07:01:10.808488Z"
    },
    "papermill": {
     "duration": null,
     "end_time": null,
     "exception": null,
     "start_time": null,
     "status": "pending"
    },
    "tags": []
   },
   "outputs": [],
   "source": [
    "# Lines below will give you a hint or solution code\n",
    "step_4.a.hint()\n",
    "step_4.a.solution()"
   ]
  },
  {
   "cell_type": "markdown",
   "id": "c1ddd36f",
   "metadata": {
    "papermill": {
     "duration": null,
     "end_time": null,
     "exception": null,
     "start_time": null,
     "status": "pending"
    },
    "tags": []
   },
   "source": [
    "Run the next code cell to train and evaluate a random forest model.  (*Note that we don't use the `score_dataset()` function above, because we will soon use the trained model to generate test predictions!*)"
   ]
  },
  {
   "cell_type": "code",
   "execution_count": null,
   "id": "95f9f686",
   "metadata": {
    "execution": {
     "iopub.execute_input": "2023-05-05T07:05:37.084880Z",
     "iopub.status.busy": "2023-05-05T07:05:37.084524Z",
     "iopub.status.idle": "2023-05-05T07:05:38.472884Z",
     "shell.execute_reply": "2023-05-05T07:05:38.471653Z",
     "shell.execute_reply.started": "2023-05-05T07:05:37.084854Z"
    },
    "papermill": {
     "duration": null,
     "end_time": null,
     "exception": null,
     "start_time": null,
     "status": "pending"
    },
    "tags": []
   },
   "outputs": [],
   "source": [
    "# Define and fit model\n",
    "model = RandomForestRegressor(n_estimators=100, random_state=0)\n",
    "model.fit(final_X_train, y_train)\n",
    "\n",
    "# Get validation predictions and MAE\n",
    "preds_valid = model.predict(final_X_valid)\n",
    "print(\"MAE (Your approach):\")\n",
    "print(mean_absolute_error(y_valid, preds_valid))"
   ]
  },
  {
   "cell_type": "markdown",
   "id": "edcf4fda",
   "metadata": {
    "papermill": {
     "duration": null,
     "end_time": null,
     "exception": null,
     "start_time": null,
     "status": "pending"
    },
    "tags": []
   },
   "source": [
    "### Part B\n",
    "\n",
    "Use the next code cell to preprocess your test data.  Make sure that you use a method that agrees with how you preprocessed the training and validation data, and set the preprocessed test features to `final_X_test`.\n",
    "\n",
    "Then, use the preprocessed test features and the trained model to generate test predictions in `preds_test`.\n",
    "\n",
    "In order for this step to be marked correct, you need only ensure:\n",
    "- the preprocessed test DataFrame has no missing values, and\n",
    "- `final_X_test` has the same number of rows as `X_test`."
   ]
  },
  {
   "cell_type": "code",
   "execution_count": null,
   "id": "5c57a34a",
   "metadata": {
    "execution": {
     "iopub.execute_input": "2023-05-05T07:07:24.717720Z",
     "iopub.status.busy": "2023-05-05T07:07:24.717307Z",
     "iopub.status.idle": "2023-05-05T07:07:24.776388Z",
     "shell.execute_reply": "2023-05-05T07:07:24.775189Z",
     "shell.execute_reply.started": "2023-05-05T07:07:24.717688Z"
    },
    "papermill": {
     "duration": null,
     "end_time": null,
     "exception": null,
     "start_time": null,
     "status": "pending"
    },
    "tags": []
   },
   "outputs": [],
   "source": [
    "# Fill in the line below: preprocess test data\n",
    "final_X_test = pd.DataFrame(final_imputer.transform(X_test))\n",
    "\n",
    "# Fill in the line below: get test predictions\n",
    "preds_test = model.predict(final_X_test)\n",
    "\n",
    "# Check your answers\n",
    "step_4.b.check()"
   ]
  },
  {
   "cell_type": "code",
   "execution_count": null,
   "id": "5a134f07",
   "metadata": {
    "execution": {
     "iopub.execute_input": "2023-05-05T07:06:06.737040Z",
     "iopub.status.busy": "2023-05-05T07:06:06.736665Z",
     "iopub.status.idle": "2023-05-05T07:06:06.748987Z",
     "shell.execute_reply": "2023-05-05T07:06:06.747998Z",
     "shell.execute_reply.started": "2023-05-05T07:06:06.737015Z"
    },
    "papermill": {
     "duration": null,
     "end_time": null,
     "exception": null,
     "start_time": null,
     "status": "pending"
    },
    "tags": []
   },
   "outputs": [],
   "source": [
    "# Lines below will give you a hint or solution code\n",
    "step_4.b.hint()\n",
    "step_4.b.solution()"
   ]
  },
  {
   "cell_type": "markdown",
   "id": "cbf925a7",
   "metadata": {
    "papermill": {
     "duration": null,
     "end_time": null,
     "exception": null,
     "start_time": null,
     "status": "pending"
    },
    "tags": []
   },
   "source": [
    "Run the next code cell without changes to save your results to a CSV file that can be submitted directly to the competition."
   ]
  },
  {
   "cell_type": "code",
   "execution_count": null,
   "id": "1671d5dc",
   "metadata": {
    "execution": {
     "iopub.execute_input": "2023-05-05T07:07:36.525889Z",
     "iopub.status.busy": "2023-05-05T07:07:36.525542Z",
     "iopub.status.idle": "2023-05-05T07:07:36.540149Z",
     "shell.execute_reply": "2023-05-05T07:07:36.538875Z",
     "shell.execute_reply.started": "2023-05-05T07:07:36.525864Z"
    },
    "papermill": {
     "duration": null,
     "end_time": null,
     "exception": null,
     "start_time": null,
     "status": "pending"
    },
    "tags": []
   },
   "outputs": [],
   "source": [
    "# Save test predictions to file\n",
    "output = pd.DataFrame({'Id': X_test.index,\n",
    "                       'SalePrice': preds_test})\n",
    "output.to_csv('submission.csv', index=False)"
   ]
  },
  {
   "cell_type": "markdown",
   "id": "ba3f0507",
   "metadata": {
    "papermill": {
     "duration": null,
     "end_time": null,
     "exception": null,
     "start_time": null,
     "status": "pending"
    },
    "tags": []
   },
   "source": [
    "# Submit your results\n",
    "\n",
    "Once you have successfully completed Step 4, you're ready to submit your results to the leaderboard!  (_You also learned how to do this in the previous exercise.  If you need a reminder of how to do this, please use the instructions below._)  \n",
    "\n",
    "First, you'll need to join the competition if you haven't already.  So open a new window by clicking on [this link](https://www.kaggle.com/c/home-data-for-ml-course).  Then click on the **Join Competition** button.\n",
    "\n",
    "![join competition image](https://storage.googleapis.com/kaggle-media/learn/images/wLmFtH3.png)\n",
    "\n",
    "Next, follow the instructions below:\n",
    "1. Begin by clicking on the **Save Version** button in the top right corner of the window.  This will generate a pop-up window.  \n",
    "2. Ensure that the **Save and Run All** option is selected, and then click on the **Save** button.\n",
    "3. This generates a window in the bottom left corner of the notebook.  After it has finished running, click on the number to the right of the **Save Version** button.  This pulls up a list of versions on the right of the screen.  Click on the ellipsis **(...)** to the right of the most recent version, and select **Open in Viewer**.  This brings you into view mode of the same page. You will need to scroll down to get back to these instructions.\n",
    "4. Click on the **Data** tab near the top of the screen.  Then, click on the file you would like to submit, and click on the **Submit** button to submit your results to the leaderboard.\n",
    "\n",
    "You have now successfully submitted to the competition!\n",
    "\n",
    "If you want to keep working to improve your performance, select the **Edit** button in the top right of the screen. Then you can change your code and repeat the process. There's a lot of room to improve, and you will climb up the leaderboard as you work.\n",
    "\n",
    "\n",
    "# Keep going\n",
    "\n",
    "Move on to learn what **[categorical variables](https://www.kaggle.com/alexisbcook/categorical-variables)** are, along with how to incorporate them into your machine learning models.  Categorical variables are very common in real-world data, but you'll get an error if you try to plug them into your models without processing them first!"
   ]
  },
  {
   "cell_type": "markdown",
   "id": "5b57abcc",
   "metadata": {
    "papermill": {
     "duration": null,
     "end_time": null,
     "exception": null,
     "start_time": null,
     "status": "pending"
    },
    "tags": []
   },
   "source": []
  },
  {
   "cell_type": "markdown",
   "id": "7257cb89",
   "metadata": {
    "papermill": {
     "duration": null,
     "end_time": null,
     "exception": null,
     "start_time": null,
     "status": "pending"
    },
    "tags": []
   },
   "source": [
    "---\n",
    "\n",
    "\n",
    "\n",
    "\n",
    "*Have questions or comments? Visit the [course discussion forum](https://www.kaggle.com/learn/intermediate-machine-learning/discussion) to chat with other learners.*"
   ]
  }
 ],
 "metadata": {
  "kernelspec": {
   "display_name": "Python 3 (ipykernel)",
   "language": "python",
   "name": "python3"
  },
  "language_info": {
   "codemirror_mode": {
    "name": "ipython",
    "version": 3
   },
   "file_extension": ".py",
   "mimetype": "text/x-python",
   "name": "python",
   "nbconvert_exporter": "python",
   "pygments_lexer": "ipython3",
   "version": "3.9.13"
  },
  "papermill": {
   "default_parameters": {},
   "duration": 16.196737,
   "end_time": "2023-05-05T07:29:22.094808",
   "environment_variables": {},
   "exception": true,
   "input_path": "__notebook__.ipynb",
   "output_path": "__notebook__.ipynb",
   "parameters": {},
   "start_time": "2023-05-05T07:29:05.898071",
   "version": "2.4.0"
  }
 },
 "nbformat": 4,
 "nbformat_minor": 5
}
