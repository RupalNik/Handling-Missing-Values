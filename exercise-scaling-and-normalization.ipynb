{
 "cells": [
  {
   "cell_type": "markdown",
   "id": "79311601",
   "metadata": {
    "papermill": {
     "duration": 0.006278,
     "end_time": "2023-05-05T16:35:38.234983",
     "exception": false,
     "start_time": "2023-05-05T16:35:38.228705",
     "status": "completed"
    },
    "tags": []
   },
   "source": [
    "**This notebook is an exercise in the [Data Cleaning](https://www.kaggle.com/learn/data-cleaning) course.  You can reference the tutorial at [this link](https://www.kaggle.com/alexisbcook/scaling-and-normalization).**\n",
    "\n",
    "---\n"
   ]
  },
  {
   "cell_type": "markdown",
   "id": "6c2590f8",
   "metadata": {
    "papermill": {
     "duration": 0.006008,
     "end_time": "2023-05-05T16:35:38.246949",
     "exception": false,
     "start_time": "2023-05-05T16:35:38.240941",
     "status": "completed"
    },
    "tags": []
   },
   "source": [
    "In this exercise, you'll apply what you learned in the **Scaling and normalization** tutorial.\n",
    "\n",
    "# Setup\n",
    "\n",
    "The questions below will give you feedback on your work. Run the following cell to set up the feedback system."
   ]
  },
  {
   "cell_type": "markdown",
   "id": "7a701acc",
   "metadata": {
    "papermill": {
     "duration": 0.005468,
     "end_time": "2023-05-05T16:35:38.258161",
     "exception": false,
     "start_time": "2023-05-05T16:35:38.252693",
     "status": "completed"
    },
    "tags": []
   },
   "source": []
  },
  {
   "cell_type": "code",
   "execution_count": 1,
   "id": "bf845f65",
   "metadata": {
    "execution": {
     "iopub.execute_input": "2023-05-05T16:35:38.271618Z",
     "iopub.status.busy": "2023-05-05T16:35:38.271184Z",
     "iopub.status.idle": "2023-05-05T16:35:42.227128Z",
     "shell.execute_reply": "2023-05-05T16:35:42.225512Z"
    },
    "papermill": {
     "duration": 3.966325,
     "end_time": "2023-05-05T16:35:42.230319",
     "exception": false,
     "start_time": "2023-05-05T16:35:38.263994",
     "status": "completed"
    },
    "tags": []
   },
   "outputs": [
    {
     "name": "stderr",
     "output_type": "stream",
     "text": [
      "/opt/conda/lib/python3.10/site-packages/scipy/__init__.py:146: UserWarning: A NumPy version >=1.16.5 and <1.23.0 is required for this version of SciPy (detected version 1.23.5\n",
      "  warnings.warn(f\"A NumPy version >={np_minversion} and <{np_maxversion}\"\n"
     ]
    },
    {
     "name": "stdout",
     "output_type": "stream",
     "text": [
      "Setup Complete\n"
     ]
    }
   ],
   "source": [
    "from learntools.core import binder\n",
    "binder.bind(globals())\n",
    "from learntools.data_cleaning.ex2 import *\n",
    "print(\"Setup Complete\")"
   ]
  },
  {
   "cell_type": "markdown",
   "id": "33fd40bd",
   "metadata": {
    "papermill": {
     "duration": 0.005646,
     "end_time": "2023-05-05T16:35:42.242332",
     "exception": false,
     "start_time": "2023-05-05T16:35:42.236686",
     "status": "completed"
    },
    "tags": []
   },
   "source": [
    "# Get our environment set up\n",
    "\n",
    "To practice scaling and normalization, we're going to use a [dataset of Kickstarter campaigns](https://www.kaggle.com/kemical/kickstarter-projects). (Kickstarter is a website where people can ask people to invest in various projects and concept products.)\n",
    "\n",
    "The next code cell loads in the libraries and dataset we'll be using. "
   ]
  },
  {
   "cell_type": "code",
   "execution_count": 2,
   "id": "6ff82248",
   "metadata": {
    "execution": {
     "iopub.execute_input": "2023-05-05T16:35:42.256282Z",
     "iopub.status.busy": "2023-05-05T16:35:42.255879Z",
     "iopub.status.idle": "2023-05-05T16:35:43.959414Z",
     "shell.execute_reply": "2023-05-05T16:35:43.958467Z"
    },
    "papermill": {
     "duration": 1.713496,
     "end_time": "2023-05-05T16:35:43.961989",
     "exception": false,
     "start_time": "2023-05-05T16:35:42.248493",
     "status": "completed"
    },
    "tags": []
   },
   "outputs": [],
   "source": [
    "# modules we'll use\n",
    "import pandas as pd\n",
    "import numpy as np\n",
    "\n",
    "# for Box-Cox Transformation\n",
    "from scipy import stats\n",
    "\n",
    "# for min_max scaling\n",
    "from mlxtend.preprocessing import minmax_scaling\n",
    "\n",
    "# plotting modules\n",
    "import seaborn as sns\n",
    "import matplotlib.pyplot as plt\n",
    "\n",
    "# read in all our data\n",
    "kickstarters_2017 = pd.read_csv(\"../input/kickstarter-projects/ks-projects-201801.csv\")\n",
    "\n",
    "# set seed for reproducibility\n",
    "np.random.seed(0)"
   ]
  },
  {
   "cell_type": "markdown",
   "id": "50c6e96f",
   "metadata": {
    "papermill": {
     "duration": 0.006433,
     "end_time": "2023-05-05T16:35:43.974830",
     "exception": false,
     "start_time": "2023-05-05T16:35:43.968397",
     "status": "completed"
    },
    "tags": []
   },
   "source": [
    "Let's start by scaling the goals of each campaign, which is how much money they were asking for.  After scaling, all values lie between 0 and 1."
   ]
  },
  {
   "cell_type": "code",
   "execution_count": 3,
   "id": "ecb8baee",
   "metadata": {
    "execution": {
     "iopub.execute_input": "2023-05-05T16:35:43.988776Z",
     "iopub.status.busy": "2023-05-05T16:35:43.988313Z",
     "iopub.status.idle": "2023-05-05T16:35:44.026492Z",
     "shell.execute_reply": "2023-05-05T16:35:44.025347Z"
    },
    "papermill": {
     "duration": 0.047643,
     "end_time": "2023-05-05T16:35:44.028733",
     "exception": false,
     "start_time": "2023-05-05T16:35:43.981090",
     "status": "completed"
    },
    "tags": []
   },
   "outputs": [
    {
     "name": "stdout",
     "output_type": "stream",
     "text": [
      "Original data\n",
      "Preview:\n",
      "    usd_goal_real\n",
      "0        1533.95\n",
      "1       30000.00\n",
      "2       45000.00\n",
      "3        5000.00\n",
      "4       19500.00\n",
      "Minimum value: 0.01 \n",
      "Maximum value: 166361390.71\n",
      "______________________________\n",
      "\n",
      "Scaled data\n",
      "Preview:\n",
      "    usd_goal_real\n",
      "0       0.000009\n",
      "1       0.000180\n",
      "2       0.000270\n",
      "3       0.000030\n",
      "4       0.000117\n",
      "Minimum value: 0.0 \n",
      "Maximum value: 1.0\n"
     ]
    }
   ],
   "source": [
    "# select the usd_goal_real column\n",
    "original_data = pd.DataFrame(kickstarters_2017.usd_goal_real)\n",
    "\n",
    "# scale the goals from 0 to 1\n",
    "scaled_data = minmax_scaling(original_data, columns=['usd_goal_real'])\n",
    "\n",
    "print('Original data\\nPreview:\\n', original_data.head())\n",
    "print('Minimum value:', float(original_data.min()),\n",
    "      '\\nMaximum value:', float(original_data.max()))\n",
    "print('_'*30)\n",
    "\n",
    "print('\\nScaled data\\nPreview:\\n', scaled_data.head())\n",
    "print('Minimum value:', float(scaled_data.min()),\n",
    "      '\\nMaximum value:', float(scaled_data.max()))"
   ]
  },
  {
   "cell_type": "markdown",
   "id": "47d84c35",
   "metadata": {
    "papermill": {
     "duration": 0.005699,
     "end_time": "2023-05-05T16:35:44.040312",
     "exception": false,
     "start_time": "2023-05-05T16:35:44.034613",
     "status": "completed"
    },
    "tags": []
   },
   "source": [
    "# 1) Practice scaling\n",
    "\n",
    "We just scaled the \"usd_goal_real\" column. What about the \"goal\" column?\n",
    "\n",
    "Begin by running the code cell below to create a DataFrame `original_goal_data` containing the \"goal\" column."
   ]
  },
  {
   "cell_type": "code",
   "execution_count": 4,
   "id": "14a5daf6",
   "metadata": {
    "execution": {
     "iopub.execute_input": "2023-05-05T16:35:44.054182Z",
     "iopub.status.busy": "2023-05-05T16:35:44.053563Z",
     "iopub.status.idle": "2023-05-05T16:35:44.059370Z",
     "shell.execute_reply": "2023-05-05T16:35:44.058593Z"
    },
    "papermill": {
     "duration": 0.015315,
     "end_time": "2023-05-05T16:35:44.061514",
     "exception": false,
     "start_time": "2023-05-05T16:35:44.046199",
     "status": "completed"
    },
    "tags": []
   },
   "outputs": [],
   "source": [
    "# select the usd_goal_real column\n",
    "original_goal_data = pd.DataFrame(kickstarters_2017.goal)"
   ]
  },
  {
   "cell_type": "markdown",
   "id": "74b3d86e",
   "metadata": {
    "papermill": {
     "duration": 0.005581,
     "end_time": "2023-05-05T16:35:44.073129",
     "exception": false,
     "start_time": "2023-05-05T16:35:44.067548",
     "status": "completed"
    },
    "tags": []
   },
   "source": [
    "Use `original_goal_data` to create a new DataFrame `scaled_goal_data` with values scaled between 0 and 1. You must use the `minmax_scaling()` function."
   ]
  },
  {
   "cell_type": "code",
   "execution_count": 5,
   "id": "a77940a3",
   "metadata": {
    "execution": {
     "iopub.execute_input": "2023-05-05T16:35:44.087093Z",
     "iopub.status.busy": "2023-05-05T16:35:44.086473Z",
     "iopub.status.idle": "2023-05-05T16:35:44.124539Z",
     "shell.execute_reply": "2023-05-05T16:35:44.123459Z"
    },
    "papermill": {
     "duration": 0.047816,
     "end_time": "2023-05-05T16:35:44.126876",
     "exception": false,
     "start_time": "2023-05-05T16:35:44.079060",
     "status": "completed"
    },
    "tags": []
   },
   "outputs": [
    {
     "name": "stdout",
     "output_type": "stream",
     "text": [
      "Original data\n",
      "Preview:\n",
      "       goal\n",
      "0   1000.0\n",
      "1  30000.0\n",
      "2  45000.0\n",
      "3   5000.0\n",
      "4  19500.0\n",
      "Minimum value: 0.01 \n",
      "Maximum value: 100000000.0\n",
      "______________________________\n",
      "\n",
      "Scaled data\n",
      "Preview:\n",
      "        goal\n",
      "0  0.000010\n",
      "1  0.000300\n",
      "2  0.000450\n",
      "3  0.000050\n",
      "4  0.000195\n",
      "Minimum value: 0.0 \n",
      "Maximum value: 1.0\n"
     ]
    },
    {
     "data": {
      "application/javascript": [
       "parent.postMessage({\"jupyterEvent\": \"custom.exercise_interaction\", \"data\": {\"outcomeType\": 1, \"valueTowardsCompletion\": 0.3333333333333333, \"interactionType\": 1, \"questionType\": 1, \"questionId\": \"1_TryScaling\", \"learnToolsVersion\": \"0.3.4\", \"failureMessage\": \"\", \"exceptionClass\": \"\", \"trace\": \"\"}}, \"*\")"
      ],
      "text/plain": [
       "<IPython.core.display.Javascript object>"
      ]
     },
     "metadata": {},
     "output_type": "display_data"
    },
    {
     "data": {
      "text/markdown": [
       "<span style=\"color:#33cc33\">Correct</span>"
      ],
      "text/plain": [
       "Correct"
      ]
     },
     "metadata": {},
     "output_type": "display_data"
    }
   ],
   "source": [
    "# TODO: Your code here\n",
    "scaled_goal_data =minmax_scaling(original_goal_data,columns=['goal'])\n",
    "print('Original data\\nPreview:\\n', original_goal_data.head())\n",
    "print('Minimum value:', float(original_goal_data.min()),\n",
    "      '\\nMaximum value:', float(original_goal_data.max()))\n",
    "print('_'*30)\n",
    "\n",
    "print('\\nScaled data\\nPreview:\\n', scaled_goal_data.head())\n",
    "print('Minimum value:', float(scaled_goal_data.min()),\n",
    "      '\\nMaximum value:', float(scaled_goal_data.max()))\n",
    "\n",
    "# Check your answer\n",
    "q1.check()"
   ]
  },
  {
   "cell_type": "code",
   "execution_count": 6,
   "id": "96538cbf",
   "metadata": {
    "execution": {
     "iopub.execute_input": "2023-05-05T16:35:44.141399Z",
     "iopub.status.busy": "2023-05-05T16:35:44.140994Z",
     "iopub.status.idle": "2023-05-05T16:43:16.685475Z",
     "shell.execute_reply": "2023-05-05T16:43:16.684160Z"
    },
    "papermill": {
     "duration": 452.564156,
     "end_time": "2023-05-05T16:43:16.697455",
     "exception": false,
     "start_time": "2023-05-05T16:35:44.133299",
     "status": "completed"
    },
    "tags": []
   },
   "outputs": [
    {
     "data": {
      "image/png": "[encoded data removed]",
      "text/plain": [
       "<Figure size 640x480 with 1 Axes>"
      ]
     },
     "metadata": {},
     "output_type": "display_data"
    }
   ],
   "source": [
    "# plot original unscaled data\n",
    "ax = sns.histplot(original_goal_data, kde=True)\n",
    "ax.set_title(\"original goal data\")\n",
    "plt.show()"
   ]
  },
  {
   "cell_type": "code",
   "execution_count": 7,
   "id": "fec90739",
   "metadata": {
    "execution": {
     "iopub.execute_input": "2023-05-05T16:43:16.714107Z",
     "iopub.status.busy": "2023-05-05T16:43:16.713369Z",
     "iopub.status.idle": "2023-05-05T16:51:50.496201Z",
     "shell.execute_reply": "2023-05-05T16:51:50.494923Z"
    },
    "papermill": {
     "duration": 513.801615,
     "end_time": "2023-05-05T16:51:50.506260",
     "exception": false,
     "start_time": "2023-05-05T16:43:16.704645",
     "status": "completed"
    },
    "tags": []
   },
   "outputs": [
    {
     "data": {
      "image/png": "[encoded data removed]",
      "text/plain": [
       "<Figure size 640x480 with 1 Axes>"
      ]
     },
     "metadata": {},
     "output_type": "display_data"
    }
   ],
   "source": [
    "# plot scaled data\n",
    "ax = sns.histplot(scaled_goal_data, kde=True)\n",
    "ax.set_title(\"scaled goal data\")\n",
    "plt.show()"
   ]
  },
  {
   "cell_type": "code",
   "execution_count": 8,
   "id": "32feacdc",
   "metadata": {
    "execution": {
     "iopub.execute_input": "2023-05-05T16:51:50.522400Z",
     "iopub.status.busy": "2023-05-05T16:51:50.522009Z",
     "iopub.status.idle": "2023-05-05T16:51:50.526616Z",
     "shell.execute_reply": "2023-05-05T16:51:50.525488Z"
    },
    "papermill": {
     "duration": 0.015242,
     "end_time": "2023-05-05T16:51:50.528765",
     "exception": false,
     "start_time": "2023-05-05T16:51:50.513523",
     "status": "completed"
    },
    "tags": []
   },
   "outputs": [],
   "source": [
    "# Lines below will give you a hint or solution code\n",
    "#q1.hint()\n",
    "#q1.solution()"
   ]
  },
  {
   "cell_type": "markdown",
   "id": "005dddea",
   "metadata": {
    "papermill": {
     "duration": 0.006961,
     "end_time": "2023-05-05T16:51:50.542918",
     "exception": false,
     "start_time": "2023-05-05T16:51:50.535957",
     "status": "completed"
    },
    "tags": []
   },
   "source": [
    "# 2) Practice normalization\n",
    "\n",
    "Now you'll practice normalization. We begin by normalizing the amount of money pledged to each campaign."
   ]
  },
  {
   "cell_type": "code",
   "execution_count": 9,
   "id": "97656b8c",
   "metadata": {
    "execution": {
     "iopub.execute_input": "2023-05-05T16:51:50.559131Z",
     "iopub.status.busy": "2023-05-05T16:51:50.558756Z",
     "iopub.status.idle": "2023-05-05T16:51:50.792341Z",
     "shell.execute_reply": "2023-05-05T16:51:50.791134Z"
    },
    "papermill": {
     "duration": 0.245044,
     "end_time": "2023-05-05T16:51:50.795057",
     "exception": false,
     "start_time": "2023-05-05T16:51:50.550013",
     "status": "completed"
    },
    "tags": []
   },
   "outputs": [
    {
     "name": "stdout",
     "output_type": "stream",
     "text": [
      "Original data\n",
      "Preview:\n",
      " 1     2421.0\n",
      "2      220.0\n",
      "3        1.0\n",
      "4     1283.0\n",
      "5    52375.0\n",
      "Name: usd_pledged_real, dtype: float64\n",
      "Minimum value: 0.45 \n",
      "Maximum value: 20338986.27\n",
      "______________________________\n",
      "\n",
      "Normalized data\n",
      "Preview:\n",
      " 1    10.165142\n",
      "2     6.468598\n",
      "3     0.000000\n",
      "4     9.129277\n",
      "5    15.836853\n",
      "Name: usd_pledged_real, dtype: float64\n",
      "Minimum value: -0.7779954122762203 \n",
      "Maximum value: 30.69054020451361\n"
     ]
    }
   ],
   "source": [
    "# get the index of all positive pledges (Box-Cox only takes positive values)\n",
    "index_of_positive_pledges = kickstarters_2017.usd_pledged_real > 0\n",
    "\n",
    "# get only positive pledges (using their indexes)\n",
    "positive_pledges = kickstarters_2017.usd_pledged_real.loc[index_of_positive_pledges]\n",
    "\n",
    "# normalize the pledges (w/ Box-Cox)\n",
    "normalized_pledges = pd.Series(stats.boxcox(positive_pledges)[0], \n",
    "                               name='usd_pledged_real', index=positive_pledges.index)\n",
    "\n",
    "print('Original data\\nPreview:\\n', positive_pledges.head())\n",
    "print('Minimum value:', float(positive_pledges.min()),\n",
    "      '\\nMaximum value:', float(positive_pledges.max()))\n",
    "print('_'*30)\n",
    "\n",
    "print('\\nNormalized data\\nPreview:\\n', normalized_pledges.head())\n",
    "print('Minimum value:', float(normalized_pledges.min()),\n",
    "      '\\nMaximum value:', float(normalized_pledges.max()))"
   ]
  },
  {
   "cell_type": "markdown",
   "id": "2d104f75",
   "metadata": {
    "papermill": {
     "duration": 0.00698,
     "end_time": "2023-05-05T16:51:50.809308",
     "exception": false,
     "start_time": "2023-05-05T16:51:50.802328",
     "status": "completed"
    },
    "tags": []
   },
   "source": [
    "The values have changed significantly with normalization!\n",
    "\n",
    "In the next code cell, you'll take a look at the distribution of the normalized data, where it should now resemble a normal distribution."
   ]
  },
  {
   "cell_type": "code",
   "execution_count": 10,
   "id": "20fe10d3",
   "metadata": {
    "execution": {
     "iopub.execute_input": "2023-05-05T16:51:50.825307Z",
     "iopub.status.busy": "2023-05-05T16:51:50.824918Z",
     "iopub.status.idle": "2023-05-05T16:51:52.900610Z",
     "shell.execute_reply": "2023-05-05T16:51:52.899466Z"
    },
    "papermill": {
     "duration": 2.086717,
     "end_time": "2023-05-05T16:51:52.903105",
     "exception": false,
     "start_time": "2023-05-05T16:51:50.816388",
     "status": "completed"
    },
    "tags": []
   },
   "outputs": [
    {
     "data": {
      "image/png": "[encoded data removed]",
      "text/plain": [
       "<Figure size 640x480 with 1 Axes>"
      ]
     },
     "metadata": {},
     "output_type": "display_data"
    }
   ],
   "source": [
    "# plot normalized data\n",
    "ax = sns.histplot(normalized_pledges, kde=True)\n",
    "ax.set_title(\"Normalized data\")\n",
    "plt.show()"
   ]
  },
  {
   "cell_type": "markdown",
   "id": "dd0eba18",
   "metadata": {
    "papermill": {
     "duration": 0.008035,
     "end_time": "2023-05-05T16:51:52.918938",
     "exception": false,
     "start_time": "2023-05-05T16:51:52.910903",
     "status": "completed"
    },
    "tags": []
   },
   "source": [
    "We used the \"usd_pledged_real\" column. Follow the same process to normalize the \"pledged\" column. "
   ]
  },
  {
   "cell_type": "code",
   "execution_count": 11,
   "id": "a3282481",
   "metadata": {
    "execution": {
     "iopub.execute_input": "2023-05-05T16:51:52.936047Z",
     "iopub.status.busy": "2023-05-05T16:51:52.935671Z",
     "iopub.status.idle": "2023-05-05T16:51:53.281154Z",
     "shell.execute_reply": "2023-05-05T16:51:53.279433Z"
    },
    "papermill": {
     "duration": 0.357015,
     "end_time": "2023-05-05T16:51:53.283670",
     "exception": false,
     "start_time": "2023-05-05T16:51:52.926655",
     "status": "completed"
    },
    "tags": []
   },
   "outputs": [
    {
     "name": "stdout",
     "output_type": "stream",
     "text": [
      "Original data\n",
      "Preview:\n",
      " 1     2421.0\n",
      "2      220.0\n",
      "3        1.0\n",
      "4     1283.0\n",
      "5    52375.0\n",
      "Name: pledged, dtype: float64\n",
      "Minimum value: 1.0 \n",
      "Maximum value: 20338986.27\n",
      "______________________________\n",
      "\n",
      "Normalized data\n",
      "Preview:\n",
      " 1    10.013887\n",
      "2     6.403367\n",
      "3     0.000000\n",
      "4     9.005193\n",
      "5    15.499596\n",
      "Name: pledged, dtype: float64\n",
      "Minimum value: 0.0 \n",
      "Maximum value: 29.63030787418848\n"
     ]
    }
   ],
   "source": [
    "# TODO: Your code here!\n",
    "index_positive_pledged=kickstarters_2017.pledged > 0\n",
    "positive_pledged=kickstarters_2017.pledged.loc[index_positive_pledged]\n",
    "normalised_pledged=pd.Series(stats.boxcox(positive_pledged)[0],name='pledged', index=positive_pledged.index)\n",
    "print('Original data\\nPreview:\\n', positive_pledged.head())\n",
    "print('Minimum value:', float(positive_pledged.min()),\n",
    "      '\\nMaximum value:', float(positive_pledged.max()))\n",
    "print('_'*30)\n",
    "\n",
    "print('\\nNormalized data\\nPreview:\\n', normalised_pledged.head())\n",
    "print('Minimum value:', float(normalised_pledged.min()),\n",
    "      '\\nMaximum value:', float(normalised_pledged.max()))\n"
   ]
  },
  {
   "cell_type": "code",
   "execution_count": 12,
   "id": "d88e5b08",
   "metadata": {
    "execution": {
     "iopub.execute_input": "2023-05-05T16:51:53.300972Z",
     "iopub.status.busy": "2023-05-05T16:51:53.300596Z",
     "iopub.status.idle": "2023-05-05T16:55:08.337454Z",
     "shell.execute_reply": "2023-05-05T16:55:08.336335Z"
    },
    "papermill": {
     "duration": 195.056408,
     "end_time": "2023-05-05T16:55:08.347740",
     "exception": false,
     "start_time": "2023-05-05T16:51:53.291332",
     "status": "completed"
    },
    "tags": []
   },
   "outputs": [
    {
     "data": {
      "image/png": "[encoded data removed]",
      "text/plain": [
       "<Figure size 640x480 with 1 Axes>"
      ]
     },
     "metadata": {},
     "output_type": "display_data"
    }
   ],
   "source": [
    "# plot original data\n",
    "ax = sns.histplot(positive_pledged, kde=True)\n",
    "ax.set_title(\"Normalized data\")\n",
    "plt.show()"
   ]
  },
  {
   "cell_type": "code",
   "execution_count": 13,
   "id": "cace9b7e",
   "metadata": {
    "execution": {
     "iopub.execute_input": "2023-05-05T16:55:08.366703Z",
     "iopub.status.busy": "2023-05-05T16:55:08.365572Z",
     "iopub.status.idle": "2023-05-05T16:55:10.391758Z",
     "shell.execute_reply": "2023-05-05T16:55:10.390695Z"
    },
    "papermill": {
     "duration": 2.038179,
     "end_time": "2023-05-05T16:55:10.394100",
     "exception": false,
     "start_time": "2023-05-05T16:55:08.355921",
     "status": "completed"
    },
    "tags": []
   },
   "outputs": [
    {
     "data": {
      "image/png": "[encoded data removed]",
      "text/plain": [
       "<Figure size 640x480 with 1 Axes>"
      ]
     },
     "metadata": {},
     "output_type": "display_data"
    }
   ],
   "source": [
    "# plot normalized data\n",
    "ax = sns.histplot(normalised_pledged, kde=True)\n",
    "ax.set_title(\"Normalized data\")\n",
    "plt.show()"
   ]
  },
  {
   "cell_type": "markdown",
   "id": "be634dce",
   "metadata": {
    "papermill": {
     "duration": 0.008499,
     "end_time": "2023-05-05T16:55:10.411539",
     "exception": false,
     "start_time": "2023-05-05T16:55:10.403040",
     "status": "completed"
    },
    "tags": []
   },
   "source": [
    "How does the normalized \"usd_pledged_real\" column look different from when we normalized the \"pledged\" column?  Or, do they look mostly the same?\n",
    "\n",
    "Once you have an answer, run the code cell below."
   ]
  },
  {
   "cell_type": "code",
   "execution_count": 14,
   "id": "9f7daf00",
   "metadata": {
    "execution": {
     "iopub.execute_input": "2023-05-05T16:55:10.431429Z",
     "iopub.status.busy": "2023-05-05T16:55:10.430320Z",
     "iopub.status.idle": "2023-05-05T16:55:10.437464Z",
     "shell.execute_reply": "2023-05-05T16:55:10.436765Z"
    },
    "papermill": {
     "duration": 0.019119,
     "end_time": "2023-05-05T16:55:10.439440",
     "exception": false,
     "start_time": "2023-05-05T16:55:10.420321",
     "status": "completed"
    },
    "tags": []
   },
   "outputs": [
    {
     "data": {
      "application/javascript": [
       "parent.postMessage({\"jupyterEvent\": \"custom.exercise_interaction\", \"data\": {\"outcomeType\": 1, \"valueTowardsCompletion\": 0.3333333333333333, \"interactionType\": 1, \"questionType\": 4, \"questionId\": \"2_TryNormalization\", \"learnToolsVersion\": \"0.3.4\", \"failureMessage\": \"\", \"exceptionClass\": \"\", \"trace\": \"\"}}, \"*\")"
      ],
      "text/plain": [
       "<IPython.core.display.Javascript object>"
      ]
     },
     "metadata": {},
     "output_type": "display_data"
    },
    {
     "data": {
      "text/markdown": [
       "<span style=\"color:#33cc33\">Correct:</span> \n",
       "\n",
       "The distributions in the normalized data look mostly the same."
      ],
      "text/plain": [
       "Correct: \n",
       "\n",
       "The distributions in the normalized data look mostly the same."
      ]
     },
     "metadata": {},
     "output_type": "display_data"
    }
   ],
   "source": [
    "# Check your answer (Run this code cell to receive credit!)\n",
    "q2.check()"
   ]
  },
  {
   "cell_type": "code",
   "execution_count": 15,
   "id": "14037575",
   "metadata": {
    "execution": {
     "iopub.execute_input": "2023-05-05T16:55:10.459385Z",
     "iopub.status.busy": "2023-05-05T16:55:10.458812Z",
     "iopub.status.idle": "2023-05-05T16:55:10.462163Z",
     "shell.execute_reply": "2023-05-05T16:55:10.461474Z"
    },
    "papermill": {
     "duration": 0.015676,
     "end_time": "2023-05-05T16:55:10.464032",
     "exception": false,
     "start_time": "2023-05-05T16:55:10.448356",
     "status": "completed"
    },
    "tags": []
   },
   "outputs": [],
   "source": [
    "# Line below will give you a hint\n",
    "#q2.hint()"
   ]
  },
  {
   "cell_type": "markdown",
   "id": "a04d7371",
   "metadata": {
    "papermill": {
     "duration": 0.008889,
     "end_time": "2023-05-05T16:55:10.481854",
     "exception": false,
     "start_time": "2023-05-05T16:55:10.472965",
     "status": "completed"
    },
    "tags": []
   },
   "source": [
    "# (Optional) More practice\n",
    "\n",
    "Try finding a new dataset and pretend you're preparing to perform a [regression analysis](https://www.kaggle.com/rtatman/the-5-day-regression-challenge). \n",
    "\n",
    "[These datasets are a good start!](https://www.kaggle.com/rtatman/datasets-for-regression-analysis)\n",
    "\n",
    "Pick three or four variables and decide if you need to normalize or scale any of them and, if you think you should, practice applying the correct technique.\n",
    "\n",
    "# Keep going\n",
    "\n",
    "In the next lesson, learn how to [**parse dates**](https://www.kaggle.com/alexisbcook/parsing-dates) in a dataset."
   ]
  },
  {
   "cell_type": "code",
   "execution_count": 16,
   "id": "93fb2b5b",
   "metadata": {
    "execution": {
     "iopub.execute_input": "2023-05-05T16:55:10.501538Z",
     "iopub.status.busy": "2023-05-05T16:55:10.501118Z",
     "iopub.status.idle": "2023-05-05T16:55:10.508535Z",
     "shell.execute_reply": "2023-05-05T16:55:10.507228Z"
    },
    "papermill": {
     "duration": 0.019195,
     "end_time": "2023-05-05T16:55:10.510060",
     "exception": true,
     "start_time": "2023-05-05T16:55:10.490865",
     "status": "failed"
    },
    "tags": []
   },
   "outputs": [
    {
     "ename": "SyntaxError",
     "evalue": "invalid syntax (1448052362.py, line 1)",
     "output_type": "error",
     "traceback": [
      "\u001b[0;36m  Cell \u001b[0;32mIn[16], line 1\u001b[0;36m\u001b[0m\n\u001b[0;31m    ---\u001b[0m\n\u001b[0m       ^\u001b[0m\n\u001b[0;31mSyntaxError\u001b[0m\u001b[0;31m:\u001b[0m invalid syntax\n"
     ]
    }
   ],
   "source": [
    "---\n",
    "\n",
    "\n",
    "\n",
    "\n",
    "*Have questions or comments? Visit the [course discussion forum](https://www.kaggle.com/learn/data-cleaning/discussion) to chat with other learners.*"
   ]
  },
  {
   "cell_type": "markdown",
   "id": "40a802b9",
   "metadata": {
    "papermill": {
     "duration": null,
     "end_time": null,
     "exception": null,
     "start_time": null,
     "status": "pending"
    },
    "tags": []
   },
   "source": []
  }
 ],
 "metadata": {
  "kernelspec": {
   "display_name": "Python 3 (ipykernel)",
   "language": "python",
   "name": "python3"
  },
  "language_info": {
   "codemirror_mode": {
    "name": "ipython",
    "version": 3
   },
   "file_extension": ".py",
   "mimetype": "text/x-python",
   "name": "python",
   "nbconvert_exporter": "python",
   "pygments_lexer": "ipython3",
   "version": "3.9.13"
  },
  "papermill": {
   "default_parameters": {},
   "duration": 1185.459086,
   "end_time": "2023-05-05T16:55:13.443086",
   "environment_variables": {},
   "exception": true,
   "input_path": "__notebook__.ipynb",
   "output_path": "__notebook__.ipynb",
   "parameters": {},
   "start_time": "2023-05-05T16:35:27.984000",
   "version": "2.4.0"
  }
 },
 "nbformat": 4,
 "nbformat_minor": 5
}
